{
 "cells": [
  {
   "cell_type": "code",
   "execution_count": 1,
   "metadata": {},
   "outputs": [],
   "source": [
    "import pyspark\n",
    "import findspark\n",
    "findspark.find()\n",
    "from pyspark.sql import SparkSession\n",
    "from pyspark.ml.classification import MultilayerPerceptronClassifier\n",
    "from pyspark.ml.evaluation import MulticlassClassificationEvaluator\n",
    "from pyspark.ml.feature import Normalizer, VectorAssembler\n",
    "from pyspark.ml.pipeline import Pipeline"
   ]
  },
  {
   "cell_type": "code",
   "execution_count": 2,
   "metadata": {},
   "outputs": [
    {
     "data": {
      "text/plain": [
       "'C:\\\\Users\\\\bishw\\\\OneDrive\\\\Spark_for_Machine_Learning\\\\Logistic_Regression'"
      ]
     },
     "execution_count": 2,
     "metadata": {},
     "output_type": "execute_result"
    }
   ],
   "source": [
    "import os\n",
    "os.getcwd()"
   ]
  },
  {
   "cell_type": "code",
   "execution_count": 3,
   "metadata": {},
   "outputs": [],
   "source": [
    "spark=SparkSession.builder.getOrCreate()"
   ]
  },
  {
   "cell_type": "code",
   "execution_count": 4,
   "metadata": {},
   "outputs": [],
   "source": [
    "df=spark.read.csv('customer_churn.csv', inferSchema=True, header=True)"
   ]
  },
  {
   "cell_type": "code",
   "execution_count": 5,
   "metadata": {},
   "outputs": [
    {
     "name": "stdout",
     "output_type": "stream",
     "text": [
      "+-------------------+----+--------------+---------------+-----+---------+-------------------+--------------------+--------------------+-----+\n",
      "|              Names| Age|Total_Purchase|Account_Manager|Years|Num_Sites|       Onboard_date|            Location|             Company|Churn|\n",
      "+-------------------+----+--------------+---------------+-----+---------+-------------------+--------------------+--------------------+-----+\n",
      "|   Cameron Williams|42.0|       11066.8|              0| 7.22|      8.0|2013-08-30 07:00:40|10265 Elizabeth M...|          Harvey LLC|    1|\n",
      "|      Kevin Mueller|41.0|      11916.22|              0|  6.5|     11.0|2013-08-13 00:38:46|6157 Frank Garden...|          Wilson PLC|    1|\n",
      "|        Eric Lozano|38.0|      12884.75|              0| 6.67|     12.0|2016-06-29 06:20:07|1331 Keith Court ...|Miller, Johnson a...|    1|\n",
      "|      Phillip White|42.0|       8010.76|              0| 6.71|     10.0|2014-04-22 12:43:12|13120 Daniel Moun...|           Smith Inc|    1|\n",
      "|     Cynthia Norton|37.0|       9191.58|              0| 5.56|      9.0|2016-01-19 15:31:15|765 Tricia Row Ka...|          Love-Jones|    1|\n",
      "|   Jessica Williams|48.0|      10356.02|              0| 5.12|      8.0|2009-03-03 23:13:37|6187 Olson Mounta...|        Kelly-Warren|    1|\n",
      "|        Eric Butler|44.0|      11331.58|              1| 5.23|     11.0|2016-12-05 03:35:43|4846 Savannah Roa...|   Reynolds-Sheppard|    1|\n",
      "|      Zachary Walsh|32.0|       9885.12|              1| 6.92|      9.0|2006-03-09 14:50:20|25271 Roy Express...|          Singh-Cole|    1|\n",
      "|        Ashlee Carr|43.0|       14062.6|              1| 5.46|     11.0|2011-09-29 05:47:23|3725 Caroline Str...|           Lopez PLC|    1|\n",
      "|     Jennifer Lynch|40.0|       8066.94|              1| 7.11|     11.0|2006-03-28 15:42:45|363 Sandra Lodge ...|       Reed-Martinez|    1|\n",
      "|       Paula Harris|30.0|      11575.37|              1| 5.22|      8.0|2016-11-13 13:13:01|Unit 8120 Box 916...|Briggs, Lamb and ...|    1|\n",
      "|     Bruce Phillips|45.0|       8771.02|              1| 6.64|     11.0|2015-05-28 12:14:03|Unit 1895 Box 094...|    Figueroa-Maynard|    1|\n",
      "|       Craig Garner|45.0|       8988.67|              1| 4.84|     11.0|2011-02-16 08:10:47|897 Kelley Overpa...|     Abbott-Thompson|    1|\n",
      "|       Nicole Olson|40.0|       8283.32|              1|  5.1|     13.0|2012-11-22 05:35:03|11488 Weaver Cape...|Smith, Kim and Ma...|    1|\n",
      "|     Harold Griffin|41.0|       6569.87|              1|  4.3|     11.0|2015-03-28 02:13:44|1774 Peter Row Ap...|Snyder, Lee and M...|    1|\n",
      "|       James Wright|38.0|      10494.82|              1| 6.81|     12.0|2015-07-22 08:38:40|45408 David Path ...|      Sanders-Pierce|    1|\n",
      "|      Doris Wilkins|45.0|       8213.41|              1| 7.35|     11.0|2006-09-03 06:13:55|28216 Wright Moun...|Andrews, Adams an...|    1|\n",
      "|Katherine Carpenter|43.0|      11226.88|              0| 8.08|     12.0|2006-10-22 04:42:38|Unit 4948 Box 481...|Morgan, Phillips ...|    1|\n",
      "|     Lindsay Martin|53.0|       5515.09|              0| 6.85|      8.0|2015-10-07 00:27:10|69203 Crosby Divi...|      Villanueva LLC|    1|\n",
      "|        Kathy Curry|46.0|        8046.4|              1| 5.69|      8.0|2014-11-06 23:47:14|9569 Caldwell Cre...|Berry, Orr and Ca...|    1|\n",
      "+-------------------+----+--------------+---------------+-----+---------+-------------------+--------------------+--------------------+-----+\n",
      "only showing top 20 rows\n",
      "\n"
     ]
    }
   ],
   "source": [
    "df.show()"
   ]
  },
  {
   "cell_type": "code",
   "execution_count": 6,
   "metadata": {},
   "outputs": [
    {
     "data": {
      "text/plain": [
       "['Names',\n",
       " 'Age',\n",
       " 'Total_Purchase',\n",
       " 'Account_Manager',\n",
       " 'Years',\n",
       " 'Num_Sites',\n",
       " 'Onboard_date',\n",
       " 'Location',\n",
       " 'Company',\n",
       " 'Churn']"
      ]
     },
     "execution_count": 6,
     "metadata": {},
     "output_type": "execute_result"
    }
   ],
   "source": [
    "df.columns"
   ]
  },
  {
   "cell_type": "code",
   "execution_count": 7,
   "metadata": {},
   "outputs": [],
   "source": [
    "df=df.select(['Age',\n",
    " 'Total_Purchase',\n",
    " 'Account_Manager',\n",
    " 'Years',\n",
    " 'Num_Sites','Churn'])"
   ]
  },
  {
   "cell_type": "code",
   "execution_count": 8,
   "metadata": {},
   "outputs": [
    {
     "name": "stdout",
     "output_type": "stream",
     "text": [
      "+----+--------------+---------------+-----+---------+-----+\n",
      "| Age|Total_Purchase|Account_Manager|Years|Num_Sites|Churn|\n",
      "+----+--------------+---------------+-----+---------+-----+\n",
      "|42.0|       11066.8|              0| 7.22|      8.0|    1|\n",
      "|41.0|      11916.22|              0|  6.5|     11.0|    1|\n",
      "|38.0|      12884.75|              0| 6.67|     12.0|    1|\n",
      "|42.0|       8010.76|              0| 6.71|     10.0|    1|\n",
      "|37.0|       9191.58|              0| 5.56|      9.0|    1|\n",
      "|48.0|      10356.02|              0| 5.12|      8.0|    1|\n",
      "|44.0|      11331.58|              1| 5.23|     11.0|    1|\n",
      "|32.0|       9885.12|              1| 6.92|      9.0|    1|\n",
      "|43.0|       14062.6|              1| 5.46|     11.0|    1|\n",
      "|40.0|       8066.94|              1| 7.11|     11.0|    1|\n",
      "|30.0|      11575.37|              1| 5.22|      8.0|    1|\n",
      "|45.0|       8771.02|              1| 6.64|     11.0|    1|\n",
      "|45.0|       8988.67|              1| 4.84|     11.0|    1|\n",
      "|40.0|       8283.32|              1|  5.1|     13.0|    1|\n",
      "|41.0|       6569.87|              1|  4.3|     11.0|    1|\n",
      "|38.0|      10494.82|              1| 6.81|     12.0|    1|\n",
      "|45.0|       8213.41|              1| 7.35|     11.0|    1|\n",
      "|43.0|      11226.88|              0| 8.08|     12.0|    1|\n",
      "|53.0|       5515.09|              0| 6.85|      8.0|    1|\n",
      "|46.0|        8046.4|              1| 5.69|      8.0|    1|\n",
      "+----+--------------+---------------+-----+---------+-----+\n",
      "only showing top 20 rows\n",
      "\n"
     ]
    }
   ],
   "source": [
    "df.show()"
   ]
  },
  {
   "cell_type": "code",
   "execution_count": 9,
   "metadata": {},
   "outputs": [],
   "source": [
    "vec_df=VectorAssembler(inputCols=['Age',\n",
    " 'Total_Purchase',\n",
    " 'Account_Manager',\n",
    " 'Years',\n",
    " 'Num_Sites'], outputCol='features',handleInvalid='skip')"
   ]
  },
  {
   "cell_type": "code",
   "execution_count": 10,
   "metadata": {},
   "outputs": [],
   "source": [
    "norm=Normalizer(inputCol='features',outputCol='norm_features')"
   ]
  },
  {
   "cell_type": "code",
   "execution_count": 11,
   "metadata": {},
   "outputs": [],
   "source": [
    "mlp=MultilayerPerceptronClassifier(featuresCol='norm_features', labelCol='Churn', layers=[5,10,10,2])"
   ]
  },
  {
   "cell_type": "code",
   "execution_count": 12,
   "metadata": {},
   "outputs": [],
   "source": [
    "evalu=MulticlassClassificationEvaluator(predictionCol='prediction', labelCol='Churn')"
   ]
  },
  {
   "cell_type": "code",
   "execution_count": 13,
   "metadata": {},
   "outputs": [],
   "source": [
    "pipe=Pipeline(stages=[vec_df, norm, mlp])"
   ]
  },
  {
   "cell_type": "code",
   "execution_count": 15,
   "metadata": {},
   "outputs": [],
   "source": [
    "train, test= df.randomSplit([0.7,0.3])"
   ]
  },
  {
   "cell_type": "code",
   "execution_count": 16,
   "metadata": {},
   "outputs": [],
   "source": [
    "dl=pipe.fit(train)"
   ]
  },
  {
   "cell_type": "code",
   "execution_count": 17,
   "metadata": {},
   "outputs": [],
   "source": [
    "pred=dl.transform(test)"
   ]
  },
  {
   "cell_type": "code",
   "execution_count": 18,
   "metadata": {},
   "outputs": [
    {
     "data": {
      "text/plain": [
       "0.7748418092336536"
      ]
     },
     "execution_count": 18,
     "metadata": {},
     "output_type": "execute_result"
    }
   ],
   "source": [
    "evalu.evaluate(pred)"
   ]
  },
  {
   "cell_type": "code",
   "execution_count": 19,
   "metadata": {},
   "outputs": [
    {
     "name": "stdout",
     "output_type": "stream",
     "text": [
      "+----+--------------+---------------+-----+---------+-----+--------------------+--------------------+--------------------+--------------------+----------+\n",
      "| Age|Total_Purchase|Account_Manager|Years|Num_Sites|Churn|            features|       norm_features|       rawPrediction|         probability|prediction|\n",
      "+----+--------------+---------------+-----+---------+-----+--------------------+--------------------+--------------------+--------------------+----------+\n",
      "|22.0|      11254.38|              1| 4.96|      8.0|    0|[22.0,11254.38,1....|[0.00195479006264...|[-0.2682693024667...|[0.80535416433654...|       0.0|\n",
      "|26.0|       8939.61|              0| 4.54|      7.0|    0|[26.0,8939.61,0.0...|[0.00290839071419...|[-0.2185906905889...|[0.82045140281650...|       0.0|\n",
      "|27.0|        8628.8|              1|  5.3|      7.0|    0|[27.0,8628.8,1.0,...|[0.00312903922491...|[-0.2142246657368...|[0.82175861216236...|       0.0|\n",
      "|29.0|       5900.78|              1| 5.56|      8.0|    0|[29.0,5900.78,1.0...|[0.00491453839026...|[-0.1969256387855...|[0.82706144646740...|       0.0|\n",
      "|29.0|       9617.59|              0| 5.49|      8.0|    0|[29.0,9617.59,0.0...|[0.00301529316684...|[-0.2218090004621...|[0.81953819061631...|       0.0|\n",
      "|30.0|       6744.87|              0| 5.14|      9.0|    0|[30.0,6744.87,0.0...|[0.00444777554497...|[-0.2148272002754...|[0.82186332336825...|       0.0|\n",
      "|30.0|       7960.64|              1| 2.72|     10.0|    1|[30.0,7960.64,1.0...|[0.00376851123987...|[-0.2315193800504...|[0.81684053326349...|       0.0|\n",
      "|30.0|       8677.28|              1| 7.31|      7.0|    0|[30.0,8677.28,1.0...|[0.00345728155615...|[-0.2011512124862...|[0.82557219715092...|       0.0|\n",
      "|30.0|      12788.37|              0| 4.31|     10.0|    0|[30.0,12788.37,0....|[0.00234587414794...|[-0.2485107501930...|[0.81147387183562...|       0.0|\n",
      "|31.0|       5387.75|              0| 6.83|      9.0|    0|[31.0,5387.75,0.0...|[0.00575368543650...|[-0.2028947862153...|[0.82555288973578...|       0.0|\n",
      "|31.0|       7073.61|              0| 5.73|      9.0|    0|[31.0,7073.61,0.0...|[0.00438243938337...|[-0.2112632432784...|[0.82287685670957...|       0.0|\n",
      "|31.0|       8688.21|              0| 3.58|      7.0|    0|[31.0,8688.21,0.0...|[0.00356802954558...|[-0.1748381739329...|[0.83293578128605...|       0.0|\n",
      "|31.0|       8829.83|              1| 4.52|      8.0|    0|[31.0,8829.83,1.0...|[0.00351080280895...|[-0.1999037226628...|[0.82593208972901...|       0.0|\n",
      "|32.0|       8011.38|              0| 5.35|     10.0|    0|[32.0,8011.38,0.0...|[0.00399428221683...|[-0.2271541263400...|[0.81818153208775...|       0.0|\n",
      "|32.0|       9472.72|              1|  1.0|     10.0|    0|[32.0,9472.72,1.0...|[0.00337810040064...|[-0.2157161958580...|[0.82137182629763...|       0.0|\n",
      "|32.0|      12254.75|              1| 5.32|      9.0|    0|[32.0,12254.75,1....|[0.00261122251800...|[-0.2284656709278...|[0.81749903832636...|       0.0|\n",
      "|33.0|       5738.82|              0| 7.66|      7.0|    0|[33.0,5738.82,0.0...|[0.00575020657216...|[-0.1344167038033...|[0.84414773383395...|       0.0|\n",
      "|33.0|        7492.9|              0| 6.71|      7.0|    0|[33.0,7492.9,0.0,...|[0.00440412287994...|[-0.1597829802282...|[0.83719199697921...|       0.0|\n",
      "|33.0|       8556.73|              0| 4.21|      9.0|    0|[33.0,8556.73,0.0...|[0.00385658216900...|[-0.1980476712086...|[0.82653118799902...|       0.0|\n",
      "|33.0|      10309.71|              1| 2.96|      7.0|    0|[33.0,10309.71,1....|[0.00320084869779...|[-0.1750643120951...|[0.83279652989292...|       0.0|\n",
      "+----+--------------+---------------+-----+---------+-----+--------------------+--------------------+--------------------+--------------------+----------+\n",
      "only showing top 20 rows\n",
      "\n"
     ]
    }
   ],
   "source": [
    "pred.show()"
   ]
  },
  {
   "cell_type": "code",
   "execution_count": null,
   "metadata": {},
   "outputs": [],
   "source": []
  }
 ],
 "metadata": {
  "kernelspec": {
   "display_name": "Python 3",
   "language": "python",
   "name": "python3"
  },
  "language_info": {
   "codemirror_mode": {
    "name": "ipython",
    "version": 3
   },
   "file_extension": ".py",
   "mimetype": "text/x-python",
   "name": "python",
   "nbconvert_exporter": "python",
   "pygments_lexer": "ipython3",
   "version": "3.7.6"
  }
 },
 "nbformat": 4,
 "nbformat_minor": 4
}
